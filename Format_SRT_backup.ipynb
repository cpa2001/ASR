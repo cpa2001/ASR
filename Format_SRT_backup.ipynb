{
 "cells": [
  {
   "cell_type": "code",
   "execution_count": 1,
   "id": "initial_id",
   "metadata": {
    "collapsed": true,
    "ExecuteTime": {
     "end_time": "2024-03-05T09:29:48.475426Z",
     "start_time": "2024-03-05T09:29:48.469094Z"
    }
   },
   "outputs": [],
   "source": [
    "import re\n",
    "import json\n",
    "\n",
    "def parse_srt(srt_file):\n",
    "    # 正则表达式匹配时间和文本\n",
    "    pattern = re.compile(r'(\\d{2}:\\d{2}:\\d{2},\\d{3}) --> (\\d{2}:\\d{2}:\\d{2},\\d{3})\\n(.*?)\\n\\n', re.DOTALL)\n",
    "\n",
    "    with open(srt_file, 'r', encoding='utf-8') as file:\n",
    "        content = file.read()\n",
    "        matches = pattern.findall(content)\n",
    "\n",
    "    results = []\n",
    "    for start, end, text in matches:\n",
    "        # 将时间转换为秒\n",
    "        start_seconds = sum(x * float(t) for x, t in zip([3600, 60, 1, .001], start.replace(',', ':').split(':')))\n",
    "        end_seconds = sum(x * float(t) for x, t in zip([3600, 60, 1, .001], end.replace(',', ':').split(':')))\n",
    "\n",
    "        results.append({\n",
    "            \"start\": start_seconds,\n",
    "            \"end\": end_seconds,\n",
    "            \"text\": text.replace('\\n', ' ')\n",
    "        })\n",
    "\n",
    "    return results\n",
    "\n",
    "def srt_to_jsonl(srt_file, output_file, audio_path, language):\n",
    "    sentences = parse_srt(srt_file)\n",
    "    sentence_text = ' '.join([sentence['text'] for sentence in sentences])\n",
    "    duration = sentences[-1]['end'] - sentences[0]['start'] if sentences else 0\n",
    "\n",
    "    data = {\n",
    "        \"audio\": {\n",
    "            \"path\": audio_path\n",
    "        },\n",
    "        \"sentence\": sentence_text,\n",
    "        \"language\": language,\n",
    "        \"sentences\": sentences,\n",
    "        \"duration\": duration\n",
    "    }\n",
    "\n",
    "    with open(output_file, 'w', encoding='utf-8') as f:\n",
    "        json.dump(data, f, ensure_ascii=False, indent=4)\n",
    "\n",
    "    print(f\"File '{output_file}' has been created with the JSONL format.\")\n",
    "\n",
    "\n"
   ]
  },
  {
   "cell_type": "code",
   "outputs": [
    {
     "name": "stdout",
     "output_type": "stream",
     "text": [
      "File 'output.jsonl' has been created with the JSONL format.\n"
     ]
    }
   ],
   "source": [
    "# 使用示例\n",
    "srt_file = \"Subtitle/alice's group/Jan 10, 2022 0351 PM/GMT20220110-075157_Recording_gvo_1280x720_with_audio.srt\" # 这里修改为SRT文件的路径\n",
    "output_file = \"output.jsonl\" # 输出文件名\n",
    "audio_path = \"dataset/0.wav\" # 音频文件路径\n",
    "language = \"Cantonese\" # 语言设置为粤语\n",
    "\n",
    "# 将SRT转换为JSONL格式\n",
    "srt_to_jsonl(srt_file, output_file, audio_path, language)"
   ],
   "metadata": {
    "collapsed": false,
    "ExecuteTime": {
     "end_time": "2024-03-05T09:32:02.651085Z",
     "start_time": "2024-03-05T09:32:02.643730Z"
    }
   },
   "id": "cccdc8cc18c49446",
   "execution_count": 3
  },
  {
   "cell_type": "code",
   "outputs": [],
   "source": [
    "import re\n",
    "import json\n",
    "\n",
    "def format_srt_to_jsonl(srt_file_path, jsonl_file_path, audio_path):\n",
    "    # 用于检测中文句末是否有标点符号的正则表达式\n",
    "    punctuations_re = re.compile(r\"[。？！，；：”’]$\")\n",
    "\n",
    "    # 用于移除人物名称和后面的标记（如“婆婆：”）\n",
    "    speaker_re = re.compile(r\"\\s*\\w+：\")\n",
    "\n",
    "    def ensure_punctuation(sentence):\n",
    "        \"\"\"确保每个句子结尾有标点符号\"\"\"\n",
    "        if not punctuations_re.search(sentence):\n",
    "            return sentence + \"。\"\n",
    "        return sentence\n",
    "\n",
    "    with open(srt_file_path, 'r', encoding='utf-8') as srt_file:\n",
    "        srt_content = srt_file.read()\n",
    "\n",
    "    entries = re.split(r'\\n\\n+', srt_content.strip())\n",
    "\n",
    "    with open(jsonl_file_path, 'w', encoding='utf-8') as jsonl_file:\n",
    "        for entry in entries:\n",
    "            lines = entry.split('\\n')\n",
    "            if len(lines) < 3: continue\n",
    "\n",
    "            start_end_timestamps = lines[1].split(' --> ')\n",
    "            start_timestamp, end_timestamp = start_end_timestamps[0], start_end_timestamps[1]\n",
    "\n",
    "            start_seconds = sum(x * float(t) for x, t in zip([3600, 60, 1, 0.001], start_timestamp.replace(',', ':').split(':')))\n",
    "            end_seconds = sum(x * float(t) for x, t in zip([3600, 60, 1, 0.001], end_timestamp.replace(',', ':').split(':')))\n",
    "\n",
    "            text = ' '.join(lines[2:])\n",
    "            text = speaker_re.sub(\"\", text)  # 删除人物名称和后面的标记\n",
    "            text = ensure_punctuation(text)  # 确保句子结束有标点\n",
    "\n",
    "            sentence = {\n",
    "                \"audio\": {\n",
    "                    \"path\": audio_path\n",
    "                },\n",
    "                \"sentence\": text,\n",
    "                \"language\": \"Cantonese\",\n",
    "                \"sentences\": [\n",
    "                    {\n",
    "                        \"start\": start_seconds,\n",
    "                        \"end\": end_seconds,\n",
    "                        \"text\": text\n",
    "                    }\n",
    "                ],\n",
    "                \"duration\": end_seconds - start_seconds\n",
    "            }\n",
    "\n",
    "            jsonl_file.write(json.dumps(sentence, ensure_ascii=False) + '\\n')\n",
    "\n",
    "\n",
    "\n"
   ],
   "metadata": {
    "collapsed": false,
    "ExecuteTime": {
     "end_time": "2024-03-05T09:55:15.159580Z",
     "start_time": "2024-03-05T09:55:15.155530Z"
    }
   },
   "id": "6410d7ff9f2ade35",
   "execution_count": 9
  },
  {
   "cell_type": "code",
   "outputs": [],
   "source": [
    "# 使用示例：\n",
    "srt_file_path = \"Subtitle/alice's group/Jan 10, 2022 0351 PM/GMT20220110-075157_Recording_gvo_1280x720_with_audio.srt\" # 这里修改为SRT文件的路径\n",
    "jsonl_file_path = 'output_file.jsonl'  # JSONL输出文件路径\n",
    "audio_path = 'dataset/0.wav'  # 音频文件路径\n",
    "\n",
    "# 执行函数\n",
    "format_srt_to_jsonl(srt_file_path, jsonl_file_path, audio_path)"
   ],
   "metadata": {
    "collapsed": false,
    "ExecuteTime": {
     "end_time": "2024-03-05T09:55:16.627068Z",
     "start_time": "2024-03-05T09:55:16.618764Z"
    }
   },
   "id": "e0791d32877826ce",
   "execution_count": 10
  },
  {
   "cell_type": "code",
   "outputs": [
    {
     "data": {
      "text/plain": "174"
     },
     "execution_count": 11,
     "metadata": {},
     "output_type": "execute_result"
    }
   ],
   "source": [
    "from datetime import datetime\n",
    "\n",
    "# Function to parse the date and calculate days abroad\n",
    "def calculate_days(dates):\n",
    "    total_days_abroad = 0\n",
    "\n",
    "    for departure, arrival in dates:\n",
    "        departure_date = datetime.strptime(departure, \"%y.%m.%d\")\n",
    "        arrival_date = datetime.strptime(arrival, \"%y.%m.%d\")\n",
    "        # Add one to include the departure day\n",
    "        total_days_abroad += (arrival_date - departure_date).days + 1\n",
    "\n",
    "    return total_days_abroad\n",
    "\n",
    "# Dates of departures and arrivals from the image\n",
    "dates = [\n",
    "    (\"23.8.10\", \"23.8.10\"),\n",
    "    (\"23.8.17\", \"23.8.17\"),\n",
    "    (\"23.8.23\", \"23.8.23\"),\n",
    "    (\"23.8.27\", \"23.8.31\"),\n",
    "    (\"23.9.4\", \"23.9.23\"),\n",
    "    (\"23.9.25\", \"23.9.29\"),\n",
    "    (\"23.10.2\", \"23.11.30\"),\n",
    "    (\"23.11.30\", \"23.12.22\"),\n",
    "    (\"23.12.26\", \"24.1.6\"),\n",
    "    (\"24.1.6\", \"24.2.3\"),\n",
    "    (\"24.2.4\", \"24.2.8\"),\n",
    "    (\"24.2.14\", \"24.2.25\"),\n",
    "]\n",
    "\n",
    "# Calculate the total days spent abroad\n",
    "total_days_abroad = calculate_days(dates)\n",
    "total_days_abroad\n"
   ],
   "metadata": {
    "collapsed": false,
    "ExecuteTime": {
     "end_time": "2024-03-05T12:48:03.846666Z",
     "start_time": "2024-03-05T12:48:03.831114Z"
    }
   },
   "id": "d6d30287173ee63b",
   "execution_count": 11
  },
  {
   "cell_type": "code",
   "outputs": [
    {
     "name": "stdout",
     "output_type": "stream",
     "text": [
      "DatasetDict({\n",
      "    subtitles: Dataset({\n",
      "        features: ['id', 'start_time', 'end_time', 'speaker', 'sentence'],\n",
      "        num_rows: 5\n",
      "    })\n",
      "})\n",
      "{'id': '580', 'start_time': '00:39:30,900', 'end_time': '00:39:35,375', 'speaker': '婆婆', 'sentence': '唔係啊，用購物袋都睇唔到啊，佢睇到你啲膠袋咧，就走過嚟噶啦，睇到啲膠袋'}\n"
     ]
    }
   ],
   "source": [
    "import re\n",
    "from datasets import Dataset, DatasetDict\n",
    "\n",
    "subtitles = \"\"\"\n",
    "579\n",
    "00:39:30,000 --> 00:39:30,900\n",
    "婆婆：唔係啊，用購物袋都睇唔到啊，佢睇到你啲膠袋咧，就走過嚟噶啦，睇到啲膠袋\n",
    "\n",
    "580\n",
    "00:39:30,900 --> 00:39:35,375\n",
    "婆婆：唔係啊，用購物袋都睇唔到啊，佢睇到你啲膠袋咧，就走過嚟噶啦，睇到啲膠袋\n",
    "李太：呢兩晚冇行啦，琴晚睇到就冇行啦\n",
    "\n",
    "581\n",
    "00:39:35,375 --> 00:39:38,025\n",
    "婆婆：唔係啊，用購物袋都睇唔到啊，佢睇到你啲膠袋咧，就走過嚟噶啦，睇到啲膠袋\n",
    "\n",
    "582\n",
    "00:39:38,625 --> 00:39:39,375\n",
    "婆婆：佢搵食嘅，嚟呢度搵食啫嘛 \n",
    "\n",
    "583\n",
    "00:39:39,375 --> 00:39:41,263\n",
    "婆婆：佢搵食嘅，嚟呢度搵食啫嘛 \n",
    "李太：我個膠袋係白色嘅唔系紅色嘅。婆婆：白膠袋都系噶\n",
    "\"\"\"\n",
    "\n",
    "# 解析字幕\n",
    "pattern = re.compile(r'(\\d+)\\n(\\d{2}:\\d{2}:\\d{2},\\d{3}) --> (\\d{2}:\\d{2}:\\d{2},\\d{3})\\n(.*?)\\n', re.DOTALL)\n",
    "matches = pattern.findall(subtitles)\n",
    "\n",
    "# 构建数据集\n",
    "data = {'id': [], 'start_time': [], 'end_time': [], 'speaker': [], 'sentence': []}\n",
    "for match in matches:\n",
    "    id_, start, end, content = match\n",
    "    # 分离说话人和对白\n",
    "    lines = content.split('\\n')\n",
    "    for line in lines:\n",
    "        if line.strip():  # 确保行不为空\n",
    "            speaker, sentence = line.split('：', 1) if '：' in line else ('', line)\n",
    "            data['id'].append(id_)\n",
    "            data['start_time'].append(start)\n",
    "            data['end_time'].append(end)\n",
    "            data['speaker'].append(speaker)\n",
    "            data['sentence'].append(sentence)\n",
    "\n",
    "# 创建数据集\n",
    "subtitles_dataset = Dataset.from_dict(data)\n",
    "\n",
    "# 如果需要DatasetDict结构\n",
    "subtitles_dataset_dict = DatasetDict({\n",
    "    'subtitles': subtitles_dataset\n",
    "})\n",
    "\n",
    "print(subtitles_dataset_dict)\n",
    "\n",
    "print(subtitles_dataset_dict['subtitles'][1])"
   ],
   "metadata": {
    "collapsed": false,
    "ExecuteTime": {
     "end_time": "2024-03-06T13:51:28.789228Z",
     "start_time": "2024-03-06T13:51:28.784254Z"
    }
   },
   "id": "d2b746f8c551058e",
   "execution_count": 18
  },
  {
   "cell_type": "code",
   "outputs": [
    {
     "name": "stdout",
     "output_type": "stream",
     "text": [
      "JSON data has been written to Subtitle/alice's group/Dec 7, 2021 0926 AM/GMT20211207-012644/GMT20211207-012644_Recording_gvo_1280x720_with_audio.json\n"
     ]
    }
   ],
   "source": [
    "import re\n",
    "import json\n",
    "import os\n",
    "\n",
    "def parse_srt(srt_text):\n",
    "    pattern = re.compile(r'(\\d+)\\n(\\d{2}:\\d{2}:\\d{2},\\d{3}) --> (\\d{2}:\\d{2}:\\d{2},\\d{3})\\n(.*?)\\n', re.DOTALL)\n",
    "    matches = pattern.findall(srt_text)\n",
    "\n",
    "    data = []\n",
    "    skip_phrases = ['[',']','【','】']  # 定义需要跳过的短语列表\n",
    "\n",
    "    for match in matches:\n",
    "        id_, start, end, content = match\n",
    "        # 检查内容是否包含任何跳过短语\n",
    "        if any(skip_phrase in content for skip_phrase in skip_phrases):\n",
    "            continue  # 如果包含，跳过这部分\n",
    "\n",
    "        speaker_lines = content.strip().split('\\n')\n",
    "        for speaker_line in speaker_lines:\n",
    "            if speaker_line.strip():  # 忽略空行\n",
    "                parts = re.split(r':|：|;', speaker_line, maxsplit=1)\n",
    "                if len(parts) == 2:\n",
    "                    speaker, sentence = parts\n",
    "                else:\n",
    "                    speaker = ''\n",
    "                    sentence = parts[0]\n",
    "                entry = {\n",
    "                    'id': id_,\n",
    "                    'start_time': start,\n",
    "                    'end_time': end,\n",
    "                    'speaker': speaker.strip(),\n",
    "                    'sentence': sentence.strip()\n",
    "                }\n",
    "                data.append(entry)\n",
    "    return data\n",
    "\n",
    "def srt_to_json(srt_file_path):\n",
    "    with open(srt_file_path, 'r', encoding='utf-8') as file:\n",
    "        srt_text = file.read()\n",
    "    parsed_data = parse_srt(srt_text)\n",
    "    return json.dumps(parsed_data, ensure_ascii=False, indent=4)\n",
    "\n",
    "def process_srt_file(srt_file_path):\n",
    "    # 解析SRT文件并转换为JSON\n",
    "    json_data = srt_to_json(srt_file_path)\n",
    "    # 构造JSON文件的名称\n",
    "    json_file_name = get_json_file_name(srt_file_path)\n",
    "    # 保存JSON数据到文件\n",
    "    with open(json_file_name, 'w', encoding='utf-8') as json_file:\n",
    "        json_file.write(json_data)\n",
    "    print(f'JSON data has been written to {json_file_name}')\n",
    "\n",
    "def get_json_file_name(srt_file_path):\n",
    "    # 提取文件名（无扩展名）并添加.json扩展名\n",
    "    directory, file_name = os.path.split(srt_file_path)\n",
    "    base_name = os.path.splitext(file_name)[0]\n",
    "    return os.path.join(directory, base_name + '.json')\n",
    "\n",
    "# 指定的SRT文件路径\n",
    "srt_file_path = \"Subtitle/alice's group/Dec 7, 2021 0926 AM/GMT20211207-012644/GMT20211207-012644_Recording_gvo_1280x720_with_audio.srt\"\n",
    "\n",
    "# 处理SRT文件，解析内容并保存为JSON文件\n",
    "process_srt_file(srt_file_path)\n"
   ],
   "metadata": {
    "collapsed": false,
    "ExecuteTime": {
     "end_time": "2024-03-06T14:19:14.096425Z",
     "start_time": "2024-03-06T14:19:14.088070Z"
    }
   },
   "id": "cba0e374639984a1",
   "execution_count": 26
  },
  {
   "cell_type": "code",
   "outputs": [],
   "source": [],
   "metadata": {
    "collapsed": false
   },
   "id": "486fb0528a1b1b04"
  }
 ],
 "metadata": {
  "kernelspec": {
   "display_name": "Python 3",
   "language": "python",
   "name": "python3"
  },
  "language_info": {
   "codemirror_mode": {
    "name": "ipython",
    "version": 2
   },
   "file_extension": ".py",
   "mimetype": "text/x-python",
   "name": "python",
   "nbconvert_exporter": "python",
   "pygments_lexer": "ipython2",
   "version": "2.7.6"
  }
 },
 "nbformat": 4,
 "nbformat_minor": 5
}
