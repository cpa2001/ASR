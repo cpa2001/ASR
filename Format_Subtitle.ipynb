{
 "cells": [
  {
   "cell_type": "markdown",
   "source": [
    "### srt -> json"
   ],
   "metadata": {
    "collapsed": false
   },
   "id": "123721e8ad264bc9"
  },
  {
   "cell_type": "code",
   "execution_count": 3,
   "id": "initial_id",
   "metadata": {
    "collapsed": true,
    "ExecuteTime": {
     "end_time": "2024-03-06T15:12:22.828225Z",
     "start_time": "2024-03-06T15:12:22.791539Z"
    }
   },
   "outputs": [
    {
     "name": "stdout",
     "output_type": "stream",
     "text": [
      "Converted Subtitle/alice's group/Nov 22, 2021 1027 AM/GMT20211122-022751/GMT20211122-022751_Recording_gvo_1280x720_with_audio.srt to Subtitle/alice's group/Nov 22, 2021 1027 AM/GMT20211122-022751/GMT20211122-022751_Recording_gvo_1280x720_with_audio.json\n",
      "Converted Subtitle/alice's group/Jan 10, 2022 0351 PM/GMT20220110-075157_Recording_gvo_1280x720_with_audio.srt to Subtitle/alice's group/Jan 10, 2022 0351 PM/GMT20220110-075157_Recording_gvo_1280x720_with_audio.json\n",
      "Converted Subtitle/alice's group/Dec 7, 2021 0926 AM/GMT20211207-012644/GMT20211207-012644_Recording_gvo_1280x720_with_audio.srt to Subtitle/alice's group/Dec 7, 2021 0926 AM/GMT20211207-012644/GMT20211207-012644_Recording_gvo_1280x720_with_audio.json\n",
      "Converted Subtitle/alice's group/Mar 8, 2022 1102 AM/GMT20220308-030238/GMT20220308-030238_Recording_gvo_1280x720_with_audio.srt to Subtitle/alice's group/Mar 8, 2022 1102 AM/GMT20220308-030238/GMT20220308-030238_Recording_gvo_1280x720_with_audio.json\n",
      "Converted Subtitle/alice's group/Nov 23, 2021 1026 AM/GMT20211123-022650_Recording.srt to Subtitle/alice's group/Nov 23, 2021 1026 AM/GMT20211123-022650_Recording.json\n",
      "Converted Subtitle/alice's group/Jan 10, 2022 1031 AM/GMT20220110-023101_Recording_gvo_1280x720_with_audio.srt to Subtitle/alice's group/Jan 10, 2022 1031 AM/GMT20220110-023101_Recording_gvo_1280x720_with_audio.json\n"
     ]
    }
   ],
   "source": [
    "import re\n",
    "import json\n",
    "import os\n",
    "\n",
    "def parse_srt(srt_text):\n",
    "    pattern = re.compile(r'(\\d+)\\n(\\d{2}:\\d{2}:\\d{2},\\d{3}) --> (\\d{2}:\\d{2}:\\d{2},\\d{3})\\n(.*?)\\n', re.DOTALL)\n",
    "    matches = pattern.findall(srt_text)\n",
    "\n",
    "    data = []\n",
    "    skip_patterns = [r'\\[', r'\\]', r'【', r'】']  # 定义需要跳过的字符模式列表\n",
    "\n",
    "    for match in matches:\n",
    "        id_, start, end, content = match\n",
    "        if any(re.search(pattern, content) for pattern in skip_patterns):\n",
    "            continue  # 如果包含跳过字符，跳过这部分\n",
    "\n",
    "        speaker_lines = content.strip().split('\\n')\n",
    "        for speaker_line in speaker_lines:\n",
    "            if speaker_line.strip():  # 忽略空行\n",
    "                # 进一步拆分可能包含多个说话者的行\n",
    "                sub_lines = re.split(r'(?<=[。！？])(?=[^。！？]*：)', speaker_line)\n",
    "                for sub_line in sub_lines:\n",
    "                    parts = re.split(r':|：|;|；', sub_line, maxsplit=1)\n",
    "                    if len(parts) == 2:\n",
    "                        speaker, sentence = parts\n",
    "                    else:\n",
    "                        speaker = ''\n",
    "                        sentence = parts[0]\n",
    "                    entry = {\n",
    "                        'id': id_,\n",
    "                        'start_time': start,\n",
    "                        'end_time': end,\n",
    "                        'speaker': speaker.strip(),\n",
    "                        'sentence': sentence.strip()\n",
    "                    }\n",
    "                    data.append(entry)\n",
    "    return data\n",
    "\n",
    "def srt_to_json(srt_file_path):\n",
    "    with open(srt_file_path, 'r', encoding='utf-8') as file:\n",
    "        srt_text = file.read()\n",
    "    parsed_data = parse_srt(srt_text)\n",
    "    return json.dumps(parsed_data, ensure_ascii=False, indent=4)\n",
    "\n",
    "def convert_srt_to_json_in_directory(directory):\n",
    "    for root, dirs, files in os.walk(directory):\n",
    "        for file in files:\n",
    "            if file.endswith(\".srt\"):\n",
    "                srt_file_path = os.path.join(root, file)\n",
    "                json_data = srt_to_json(srt_file_path)\n",
    "                json_file_path = os.path.splitext(srt_file_path)[0] + '.json'\n",
    "                with open(json_file_path, 'w', encoding='utf-8') as json_file:\n",
    "                    json_file.write(json_data)\n",
    "                print(f'Converted {srt_file_path} to {json_file_path}')\n",
    "\n",
    "# 调用函数，转换 `Subtitle` 目录下的所有 `.srt` 文件\n",
    "convert_srt_to_json_in_directory(\"Subtitle\")\n"
   ]
  },
  {
   "cell_type": "markdown",
   "source": [
    "### srt -> json with duration"
   ],
   "metadata": {
    "collapsed": false
   },
   "id": "a31f69d0347e613d"
  },
  {
   "cell_type": "code",
   "outputs": [
    {
     "name": "stdout",
     "output_type": "stream",
     "text": [
      "Converted Subtitle/alice's group/Nov 22, 2021 1027 AM/GMT20211122-022751/GMT20211122-022751_Recording_gvo_1280x720_with_audio.srt to Subtitle/alice's group/Nov 22, 2021 1027 AM/GMT20211122-022751/GMT20211122-022751_Recording_gvo_1280x720_with_audio.json\n",
      "Converted Subtitle/alice's group/Jan 10, 2022 0351 PM/GMT20220110-075157_Recording_gvo_1280x720_with_audio.srt to Subtitle/alice's group/Jan 10, 2022 0351 PM/GMT20220110-075157_Recording_gvo_1280x720_with_audio.json\n",
      "Converted Subtitle/alice's group/Dec 7, 2021 0926 AM/GMT20211207-012644/GMT20211207-012644_Recording_gvo_1280x720_with_audio.srt to Subtitle/alice's group/Dec 7, 2021 0926 AM/GMT20211207-012644/GMT20211207-012644_Recording_gvo_1280x720_with_audio.json\n",
      "Converted Subtitle/alice's group/Mar 8, 2022 1102 AM/GMT20220308-030238/GMT20220308-030238_Recording_gvo_1280x720_with_audio.srt to Subtitle/alice's group/Mar 8, 2022 1102 AM/GMT20220308-030238/GMT20220308-030238_Recording_gvo_1280x720_with_audio.json\n",
      "Converted Subtitle/alice's group/Nov 23, 2021 1026 AM/GMT20211123-022650_Recording.srt to Subtitle/alice's group/Nov 23, 2021 1026 AM/GMT20211123-022650_Recording.json\n",
      "Converted Subtitle/alice's group/Jan 10, 2022 1031 AM/GMT20220110-023101_Recording_gvo_1280x720_with_audio.srt to Subtitle/alice's group/Jan 10, 2022 1031 AM/GMT20220110-023101_Recording_gvo_1280x720_with_audio.json\n"
     ]
    }
   ],
   "source": [
    "import re\n",
    "import json\n",
    "import os\n",
    "from datetime import datetime, timedelta\n",
    "\n",
    "def parse_srt(srt_text):\n",
    "    pattern = re.compile(r'(\\d+)\\n(\\d{2}:\\d{2}:\\d{2},\\d{3}) --> (\\d{2}:\\d{2}:\\d{2},\\d{3})\\n(.*?)\\n', re.DOTALL)\n",
    "    matches = pattern.findall(srt_text)\n",
    "\n",
    "    data = []\n",
    "    skip_patterns = [r'\\[', r'\\]', r'【', r'】']\n",
    "\n",
    "    for match in matches:\n",
    "        id_, start, end, content = match\n",
    "        if any(re.search(pattern, content) for pattern in skip_patterns):\n",
    "            continue\n",
    "\n",
    "        start_time = datetime.strptime(start, '%H:%M:%S,%f')\n",
    "        end_time = datetime.strptime(end, '%H:%M:%S,%f')\n",
    "\n",
    "        # 如果 end_time 等于 start_time，则将 end_time 设置为 start_time + 0.5 秒\n",
    "        if end_time == start_time:\n",
    "            end_time = start_time + timedelta(seconds=0.5)\n",
    "\n",
    "        duration = end_time - start_time\n",
    "        duration_seconds = duration.total_seconds()\n",
    "        duration_formatted = f\"{duration_seconds:.3f}\"\n",
    "\n",
    "        speaker_lines = content.strip().split('\\n')\n",
    "        for speaker_line in speaker_lines:\n",
    "            if speaker_line.strip():\n",
    "                sub_lines = re.split(r'(?<=[。！？])(?=[^。！？]*：)', speaker_line)\n",
    "                for sub_line in sub_lines:\n",
    "                    parts = re.split(r':|：|;|；', sub_line, maxsplit=1)\n",
    "                    if len(parts) == 2:\n",
    "                        speaker, sentence = parts\n",
    "                    else:\n",
    "                        speaker = ''\n",
    "                        sentence = parts[0]\n",
    "                    entry = {\n",
    "                        'id': id_,\n",
    "                        'start_time': start,\n",
    "                        'end_time': end_time.strftime('%H:%M:%S,%f')[:-3],\n",
    "                        'duration': duration_formatted,\n",
    "                        'speaker': speaker.strip(),\n",
    "                        'sentence': sentence.strip()\n",
    "                    }\n",
    "                    data.append(entry)\n",
    "    return data\n",
    "\n",
    "def srt_to_json(srt_file_path):\n",
    "    with open(srt_file_path, 'r', encoding='utf-8') as file:\n",
    "        srt_text = file.read()\n",
    "    parsed_data = parse_srt(srt_text)\n",
    "    return json.dumps(parsed_data, ensure_ascii=False, indent=4)\n",
    "\n",
    "def convert_srt_to_json_in_directory(directory):\n",
    "    for root, dirs, files in os.walk(directory):\n",
    "        for file in files:\n",
    "            if file.endswith(\".srt\"):\n",
    "                srt_file_path = os.path.join(root, file)\n",
    "                json_data = srt_to_json(srt_file_path)\n",
    "                json_file_path = os.path.splitext(srt_file_path)[0] + '.json'\n",
    "                with open(json_file_path, 'w', encoding='utf-8') as json_file:\n",
    "                    json_file.write(json_data)\n",
    "                print(f'Converted {srt_file_path} to {json_file_path}')\n",
    "\n",
    "# 调用函数，转换 `Subtitle` 目录下的所有 `.srt` 文件\n",
    "convert_srt_to_json_in_directory(\"Subtitle\")\n"
   ],
   "metadata": {
    "collapsed": false,
    "ExecuteTime": {
     "end_time": "2024-03-09T08:27:01.602340Z",
     "start_time": "2024-03-09T08:27:01.511248Z"
    }
   },
   "id": "197777fe2b46b465",
   "execution_count": 4
  },
  {
   "cell_type": "markdown",
   "source": [
    "### Duration statistics"
   ],
   "metadata": {
    "collapsed": false
   },
   "id": "3e84d226fe84dacc"
  },
  {
   "cell_type": "code",
   "outputs": [
    {
     "name": "stdout",
     "output_type": "stream",
     "text": [
      "Total count: 5356\n",
      "GMT20211122-022751_Recording_gvo_1280x720_with_audio.json: 942\n",
      "GMT20220110-075157_Recording_gvo_1280x720_with_audio.json: 746\n",
      "GMT20211207-012644_Recording_gvo_1280x720_with_audio.json: 523\n",
      "GMT20220308-030238_Recording_gvo_1280x720_with_audio.json: 1328\n",
      "GMT20211123-022650_Recording.json: 1306\n",
      "GMT20220110-023101_Recording_gvo_1280x720_with_audio.json: 511\n"
     ]
    },
    {
     "data": {
      "text/plain": "<Figure size 1200x600 with 1 Axes>",
      "image/png": "[encoded data removed]"
     },
     "metadata": {},
     "output_type": "display_data"
    }
   ],
   "source": [
    "import os\n",
    "import json\n",
    "from collections import defaultdict\n",
    "import matplotlib.pyplot as plt\n",
    "\n",
    "def analyze_duration_distribution(directory):\n",
    "    duration_counts = defaultdict(int)\n",
    "    total_count = 0\n",
    "    file_counts = {}\n",
    "    for root, dirs, files in os.walk(directory):\n",
    "        for file in files:\n",
    "            if file.endswith(\".json\"):\n",
    "                file_path = os.path.join(root, file)\n",
    "                with open(file_path, 'r', encoding='utf-8') as f:\n",
    "                    data = json.load(f)\n",
    "                    file_count = 0\n",
    "                    for entry in data:\n",
    "                        duration = float(entry['duration'])\n",
    "                        duration_counts[round(duration, 3)] += 1\n",
    "                        total_count += 1\n",
    "                        file_count += 1\n",
    "                    file_counts[file] = file_count\n",
    "\n",
    "    duration_distribution = sorted(duration_counts.items(), key=lambda x: x[0])\n",
    "    return duration_distribution, total_count, file_counts\n",
    "\n",
    "def plot_duration_distribution(duration_distribution, total_count):\n",
    "    durations, counts = zip(*duration_distribution)\n",
    "    plt.figure(figsize=(12, 6))\n",
    "    plt.plot(durations, counts)\n",
    "    plt.xlabel('Duration (seconds)')\n",
    "    plt.ylabel('Count')\n",
    "    plt.title(f'Duration Distribution (Total: {total_count})')\n",
    "    plt.xticks(rotation=90)\n",
    "    plt.show()\n",
    "\n",
    "if __name__ == '__main__':\n",
    "    directory = \"Subtitle\"\n",
    "    duration_distribution, total_count, file_counts = analyze_duration_distribution(directory)\n",
    "\n",
    "    print(f\"Total count: {total_count}\")\n",
    "    for file, count in file_counts.items():\n",
    "        print(f\"{file}: {count}\")\n",
    "\n",
    "    plot_duration_distribution(duration_distribution, total_count)"
   ],
   "metadata": {
    "collapsed": false,
    "ExecuteTime": {
     "end_time": "2024-03-09T08:33:35.535244Z",
     "start_time": "2024-03-09T08:33:35.451731Z"
    }
   },
   "id": "299451f2e96837e1",
   "execution_count": 6
  }
 ],
 "metadata": {
  "kernelspec": {
   "display_name": "Python 3",
   "language": "python",
   "name": "python3"
  },
  "language_info": {
   "codemirror_mode": {
    "name": "ipython",
    "version": 2
   },
   "file_extension": ".py",
   "mimetype": "text/x-python",
   "name": "python",
   "nbconvert_exporter": "python",
   "pygments_lexer": "ipython2",
   "version": "2.7.6"
  }
 },
 "nbformat": 4,
 "nbformat_minor": 5
}
