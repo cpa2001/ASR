{
 "cells": [
  {
   "cell_type": "markdown",
   "id": "123721e8ad264bc9",
   "metadata": {
    "collapsed": false
   },
   "source": [
    "### srt2json"
   ]
  },
  {
   "cell_type": "code",
   "execution_count": 3,
   "id": "initial_id",
   "metadata": {
    "ExecuteTime": {
     "end_time": "2024-03-06T15:12:22.828225Z",
     "start_time": "2024-03-06T15:12:22.791539Z"
    },
    "collapsed": true
   },
   "outputs": [
    {
     "name": "stdout",
     "output_type": "stream",
     "text": [
      "Converted Subtitle/alice's group/Nov 22, 2021 1027 AM/GMT20211122-022751/GMT20211122-022751_Recording_gvo_1280x720_with_audio.srt to Subtitle/alice's group/Nov 22, 2021 1027 AM/GMT20211122-022751/GMT20211122-022751_Recording_gvo_1280x720_with_audio.json\n",
      "Converted Subtitle/alice's group/Jan 10, 2022 0351 PM/GMT20220110-075157_Recording_gvo_1280x720_with_audio.srt to Subtitle/alice's group/Jan 10, 2022 0351 PM/GMT20220110-075157_Recording_gvo_1280x720_with_audio.json\n",
      "Converted Subtitle/alice's group/Dec 7, 2021 0926 AM/GMT20211207-012644/GMT20211207-012644_Recording_gvo_1280x720_with_audio.srt to Subtitle/alice's group/Dec 7, 2021 0926 AM/GMT20211207-012644/GMT20211207-012644_Recording_gvo_1280x720_with_audio.json\n",
      "Converted Subtitle/alice's group/Mar 8, 2022 1102 AM/GMT20220308-030238/GMT20220308-030238_Recording_gvo_1280x720_with_audio.srt to Subtitle/alice's group/Mar 8, 2022 1102 AM/GMT20220308-030238/GMT20220308-030238_Recording_gvo_1280x720_with_audio.json\n",
      "Converted Subtitle/alice's group/Nov 23, 2021 1026 AM/GMT20211123-022650_Recording.srt to Subtitle/alice's group/Nov 23, 2021 1026 AM/GMT20211123-022650_Recording.json\n",
      "Converted Subtitle/alice's group/Jan 10, 2022 1031 AM/GMT20220110-023101_Recording_gvo_1280x720_with_audio.srt to Subtitle/alice's group/Jan 10, 2022 1031 AM/GMT20220110-023101_Recording_gvo_1280x720_with_audio.json\n"
     ]
    }
   ],
   "source": [
    "import re\n",
    "import json\n",
    "import os\n",
    "\n",
    "def parse_srt(srt_text):\n",
    "    pattern = re.compile(r'(\\d+)\\n(\\d{2}:\\d{2}:\\d{2},\\d{3}) --> (\\d{2}:\\d{2}:\\d{2},\\d{3})\\n(.*?)\\n', re.DOTALL)\n",
    "    matches = pattern.findall(srt_text)\n",
    "\n",
    "    data = []\n",
    "    skip_patterns = [r'\\[', r'\\]', r'【', r'】']  # 定义需要跳过的字符模式列表\n",
    "\n",
    "    for match in matches:\n",
    "        id_, start, end, content = match\n",
    "        if any(re.search(pattern, content) for pattern in skip_patterns):\n",
    "            continue  # 如果包含跳过字符，跳过这部分\n",
    "\n",
    "        speaker_lines = content.strip().split('\\n')\n",
    "        for speaker_line in speaker_lines:\n",
    "            if speaker_line.strip():  # 忽略空行\n",
    "                # 进一步拆分可能包含多个说话者的行\n",
    "                sub_lines = re.split(r'(?<=[。！？])(?=[^。！？]*：)', speaker_line)\n",
    "                for sub_line in sub_lines:\n",
    "                    parts = re.split(r':|：|;|；', sub_line, maxsplit=1)\n",
    "                    if len(parts) == 2:\n",
    "                        speaker, sentence = parts\n",
    "                    else:\n",
    "                        speaker = ''\n",
    "                        sentence = parts[0]\n",
    "                    entry = {\n",
    "                        'id': id_,\n",
    "                        'start_time': start,\n",
    "                        'end_time': end,\n",
    "                        'speaker': speaker.strip(),\n",
    "                        'sentence': sentence.strip()\n",
    "                    }\n",
    "                    data.append(entry)\n",
    "    return data\n",
    "\n",
    "def srt_to_json(srt_file_path):\n",
    "    with open(srt_file_path, 'r', encoding='utf-8') as file:\n",
    "        srt_text = file.read()\n",
    "    parsed_data = parse_srt(srt_text)\n",
    "    return json.dumps(parsed_data, ensure_ascii=False, indent=4)\n",
    "\n",
    "def convert_srt_to_json_in_directory(directory):\n",
    "    for root, dirs, files in os.walk(directory):\n",
    "        for file in files:\n",
    "            if file.endswith(\".srt\"):\n",
    "                srt_file_path = os.path.join(root, file)\n",
    "                json_data = srt_to_json(srt_file_path)\n",
    "                json_file_path = os.path.splitext(srt_file_path)[0] + '.json'\n",
    "                with open(json_file_path, 'w', encoding='utf-8') as json_file:\n",
    "                    json_file.write(json_data)\n",
    "                print(f'Converted {srt_file_path} to {json_file_path}')\n",
    "\n",
    "# 调用函数，转换 `Subtitle` 目录下的所有 `.srt` 文件\n",
    "convert_srt_to_json_in_directory(\"Subtitle\")\n"
   ]
  },
  {
   "cell_type": "markdown",
   "id": "a31f69d0347e613d",
   "metadata": {
    "collapsed": false
   },
   "source": [
    "### srt2json with duration"
   ]
  },
  {
   "cell_type": "code",
   "execution_count": 1,
   "id": "197777fe2b46b465",
   "metadata": {
    "ExecuteTime": {
     "end_time": "2024-03-09T08:27:01.602340Z",
     "start_time": "2024-03-09T08:27:01.511248Z"
    },
    "collapsed": false
   },
   "outputs": [
    {
     "name": "stdout",
     "output_type": "stream",
     "text": [
      "Converted /userhome/34/h3619744/dataset/Audio2Caption_Demo/hera's group/Dec 8, 2021 0954 AM/GMT20211208-015432/GMT20211208-015432_Recording_gvo_1280x720_with_audio_handin3.srt to /userhome/34/h3619744/dataset/Audio2Caption_Demo/hera's group/Dec 8, 2021 0954 AM/GMT20211208-015432/GMT20211208-015432_Recording_gvo_1280x720_with_audio_handin3.json\n",
      "Converted /userhome/34/h3619744/dataset/Audio2Caption_Demo/susanna's group/Nov 29, 2021 0356 PM susanna 6/GMT20211129-075627_Recording_gvo_1280x720_with_audio.srt to /userhome/34/h3619744/dataset/Audio2Caption_Demo/susanna's group/Nov 29, 2021 0356 PM susanna 6/GMT20211129-075627_Recording_gvo_1280x720_with_audio.json\n",
      "Converted /userhome/34/h3619744/dataset/Audio2Caption_Demo/mini group/Dec 20, 2021 0451 PM mimi 6/GMT20211220-085128/(新規則人工校正后)GMT20211220-085128_Recording_gvo_1280x720_with_audio.srt to /userhome/34/h3619744/dataset/Audio2Caption_Demo/mini group/Dec 20, 2021 0451 PM mimi 6/GMT20211220-085128/(新規則人工校正后)GMT20211220-085128_Recording_gvo_1280x720_with_audio.json\n",
      "Converted /userhome/34/h3619744/dataset/Audio2Caption_Demo/angie's group/Nov 23, 2021 0926 AM/GMT20211123-012646/(人工校正后1)GMT20211123-012646_Recording_gvo_1280x720_with_audio.srt to /userhome/34/h3619744/dataset/Audio2Caption_Demo/angie's group/Nov 23, 2021 0926 AM/GMT20211123-012646/(人工校正后1)GMT20211123-012646_Recording_gvo_1280x720_with_audio.json\n",
      "Converted /userhome/34/h3619744/dataset/Audio2Caption_Demo/angie's group/Mar 22, 2022 1057 AM/GMT20220322-025706_Recording_gvo_1280x720_with_audio(1).srt to /userhome/34/h3619744/dataset/Audio2Caption_Demo/angie's group/Mar 22, 2022 1057 AM/GMT20220322-025706_Recording_gvo_1280x720_with_audio(1).json\n",
      "Converted /userhome/34/h3619744/dataset/Audio2Caption_Demo/angie's group/Nov 9, 2021 1059 AM/GMT20211109-025907/(人工校正后1)GMT20211109-025907_Recording_gvo_1280x720_with_audio.srt to /userhome/34/h3619744/dataset/Audio2Caption_Demo/angie's group/Nov 9, 2021 1059 AM/GMT20211109-025907/(人工校正后1)GMT20211109-025907_Recording_gvo_1280x720_with_audio.json\n",
      "Converted /userhome/34/h3619744/dataset/Audio2Caption_Demo/angie's group/Nov 2, 2021 1056 AM/GMT20211102-025625/(人工校正后1)GMT20211102-025625_Recording_gvo_1280x720_with_audio.srt to /userhome/34/h3619744/dataset/Audio2Caption_Demo/angie's group/Nov 2, 2021 1056 AM/GMT20211102-025625/(人工校正后1)GMT20211102-025625_Recording_gvo_1280x720_with_audio.json\n",
      "Converted /userhome/34/h3619744/dataset/Audio2Caption_Demo/angie's group/Nov 23, 2021 1057 AM/GMT20211123-025800/(人工校正后1)GMT20211123-025800_Recording_gvo_1280x720_with_audio.srt to /userhome/34/h3619744/dataset/Audio2Caption_Demo/angie's group/Nov 23, 2021 1057 AM/GMT20211123-025800/(人工校正后1)GMT20211123-025800_Recording_gvo_1280x720_with_audio.json\n",
      "Converted /userhome/34/h3619744/dataset/Audio2Caption_Demo/angie's group/Jan 4, 2022 1056 AM/GMT20220104-025628/GMT20220104-025628_Recording_gvo_1280x720_with_audio.srt to /userhome/34/h3619744/dataset/Audio2Caption_Demo/angie's group/Jan 4, 2022 1056 AM/GMT20220104-025628/GMT20220104-025628_Recording_gvo_1280x720_with_audio.json\n",
      "Converted /userhome/34/h3619744/dataset/Audio2Caption_Demo/angie's group/Dec 8, 2021 0928 AM/GMT20211208-012847_/GMT20211208-012847_Recording_gvo_1280x720_with_audio.srt to /userhome/34/h3619744/dataset/Audio2Caption_Demo/angie's group/Dec 8, 2021 0928 AM/GMT20211208-012847_/GMT20211208-012847_Recording_gvo_1280x720_with_audio.json\n",
      "Converted /userhome/34/h3619744/dataset/Audio2Caption_Demo/angie's group/Nov 2, 2021 0928 AM/GMT20211102-012834_Recording_gvo_1280x720_with_audio(1).srt to /userhome/34/h3619744/dataset/Audio2Caption_Demo/angie's group/Nov 2, 2021 0928 AM/GMT20211102-012834_Recording_gvo_1280x720_with_audio(1).json\n",
      "Converted /userhome/34/h3619744/dataset/Audio2Caption_Demo/angie's group/Nov 16, 2021 0925 AM/GMT20211116-012531/(人工校正后)GMT20211116-012531_Recording_gvo_1280x720_with_audio.srt to /userhome/34/h3619744/dataset/Audio2Caption_Demo/angie's group/Nov 16, 2021 0925 AM/GMT20211116-012531/(人工校正后)GMT20211116-012531_Recording_gvo_1280x720_with_audio.json\n",
      "Converted /userhome/34/h3619744/dataset/Audio2Caption_Demo/angie's group/Jan 18, 2022 1055 AM/GMT20220118-025518/(人工校正后)GMT20220118-025518_Recording_gvo_1280x720_with_audio.srt to /userhome/34/h3619744/dataset/Audio2Caption_Demo/angie's group/Jan 18, 2022 1055 AM/GMT20220118-025518/(人工校正后)GMT20220118-025518_Recording_gvo_1280x720_with_audio.json\n",
      "Converted /userhome/34/h3619744/dataset/Audio2Caption_Demo/angie's group/Oct 26, 2021 1057 AM/GMT20211026-025710/GMT20211026-025710_Recording_gvo_1280x720_with_audio.srt to /userhome/34/h3619744/dataset/Audio2Caption_Demo/angie's group/Oct 26, 2021 1057 AM/GMT20211026-025710/GMT20211026-025710_Recording_gvo_1280x720_with_audio.json\n",
      "Converted /userhome/34/h3619744/dataset/Audio2Caption_Demo/angie's group/Nov 9, 2021 0924 AM/GMT20211109-012410/(人工校正后1)GMT20211109-012410_Recording_gvo_1280x720_with_audio.srt to /userhome/34/h3619744/dataset/Audio2Caption_Demo/angie's group/Nov 9, 2021 0924 AM/GMT20211109-012410/(人工校正后1)GMT20211109-012410_Recording_gvo_1280x720_with_audio.json\n",
      "Converted /userhome/34/h3619744/dataset/Audio2Caption_Demo/angie's group/Nov 16, 2021 1056 AM/GMT20211116-025601/(人工校正后1)GMT20211116-025601_Recording_gvo_1280x720_with_audio.srt to /userhome/34/h3619744/dataset/Audio2Caption_Demo/angie's group/Nov 16, 2021 1056 AM/GMT20211116-025601/(人工校正后1)GMT20211116-025601_Recording_gvo_1280x720_with_audio.json\n",
      "Converted /userhome/34/h3619744/dataset/Audio2Caption_Demo/angie's group/Jan 4, 2022 0927 AM/GMT20220104-012743_/GMT20220104-012743_Recording_gvo_1280x720_with_audio(1).srt to /userhome/34/h3619744/dataset/Audio2Caption_Demo/angie's group/Jan 4, 2022 0927 AM/GMT20220104-012743_/GMT20220104-012743_Recording_gvo_1280x720_with_audio(1).json\n",
      "Converted /userhome/34/h3619744/dataset/Audio2Caption_Demo/elaine's group/Jan 14, 2022 0955 AM/GMT20220114-015537/(人工校正后)GMT20220114-015537_Recording_gvo_1280x720_with_audio.srt to /userhome/34/h3619744/dataset/Audio2Caption_Demo/elaine's group/Jan 14, 2022 0955 AM/GMT20220114-015537/(人工校正后)GMT20220114-015537_Recording_gvo_1280x720_with_audio.json\n",
      "Converted /userhome/34/h3619744/dataset/Audio2Caption_Demo/elaine's group/Jan 7, 2022 0958 AM/(人工校正后)GMT20220107-015814_Recording_gvo_1280x720_with_audio.srt to /userhome/34/h3619744/dataset/Audio2Caption_Demo/elaine's group/Jan 7, 2022 0958 AM/(人工校正后)GMT20220107-015814_Recording_gvo_1280x720_with_audio.json\n",
      "Converted /userhome/34/h3619744/dataset/Audio2Caption_Demo/elaine's group/Feb 6, 2022 0957 AM/GMT20220206-015739/(人工校正后)GMT20220206-015739_Recording_gvo_1280x720_with_audio.srt to /userhome/34/h3619744/dataset/Audio2Caption_Demo/elaine's group/Feb 6, 2022 0957 AM/GMT20220206-015739/(人工校正后)GMT20220206-015739_Recording_gvo_1280x720_with_audio.json\n",
      "Converted /userhome/34/h3619744/dataset/Audio2Caption_Demo/elaine's group/Mar 11, 2022 0947 AM/GMT20220311-014728/GMT20220311-014728_Recording_gvo_1280x720_with_audio.srt to /userhome/34/h3619744/dataset/Audio2Caption_Demo/elaine's group/Mar 11, 2022 0947 AM/GMT20220311-014728/GMT20220311-014728_Recording_gvo_1280x720_with_audio.json\n",
      "Converted /userhome/34/h3619744/dataset/Audio2Caption_Demo/elaine's group/Jan 28, 2022 0947 AM/GMT20220128-014720/(人工校正后)GMT20220128-014720_Recording_gvo_1280x720_with_audio.srt to /userhome/34/h3619744/dataset/Audio2Caption_Demo/elaine's group/Jan 28, 2022 0947 AM/GMT20220128-014720/(人工校正后)GMT20220128-014720_Recording_gvo_1280x720_with_audio.json\n",
      "Converted /userhome/34/h3619744/dataset/Audio2Caption_Demo/elaine's group/Feb 11, 2022 0957 AM/GMT20220211-015737/(人工校正后)GMT20220211-015737_Recording_gvo_1280x720_with_audio.srt to /userhome/34/h3619744/dataset/Audio2Caption_Demo/elaine's group/Feb 11, 2022 0957 AM/GMT20220211-015737/(人工校正后)GMT20220211-015737_Recording_gvo_1280x720_with_audio.json\n",
      "Converted /userhome/34/h3619744/dataset/Audio2Caption_Demo/elaine's group/Feb 24, 2022 0101 PM/(人工校正后)GMT20220224-050132_Recording_gvo_1280x720_with_audio.srt to /userhome/34/h3619744/dataset/Audio2Caption_Demo/elaine's group/Feb 24, 2022 0101 PM/(人工校正后)GMT20220224-050132_Recording_gvo_1280x720_with_audio.json\n",
      "Converted /userhome/34/h3619744/dataset/Audio2Caption_Demo/elaine's group/Jan 21, 2022 0954 AM/(人工校正后)GMT20220121-015407_Recording_gvo_1280x720_with_audio.srt to /userhome/34/h3619744/dataset/Audio2Caption_Demo/elaine's group/Jan 21, 2022 0954 AM/(人工校正后)GMT20220121-015407_Recording_gvo_1280x720_with_audio.json\n",
      "Converted /userhome/34/h3619744/dataset/Audio2Caption_Demo/alice's group/Jan 10, 2022 1031 AM/GMT20220110-023101_Recording_gvo_1280x720_with_audio.srt to /userhome/34/h3619744/dataset/Audio2Caption_Demo/alice's group/Jan 10, 2022 1031 AM/GMT20220110-023101_Recording_gvo_1280x720_with_audio.json\n",
      "Converted /userhome/34/h3619744/dataset/Audio2Caption_Demo/alice's group/Mar 8, 2022 1102 AM/GMT20220308-030238/GMT20220308-030238_Recording_gvo_1280x720_with_audio.srt to /userhome/34/h3619744/dataset/Audio2Caption_Demo/alice's group/Mar 8, 2022 1102 AM/GMT20220308-030238/GMT20220308-030238_Recording_gvo_1280x720_with_audio.json\n",
      "Converted /userhome/34/h3619744/dataset/Audio2Caption_Demo/alice's group/Nov 22, 2021 1027 AM/GMT20211122-022751/GMT20211122-022751_Recording_gvo_1280x720_with_audio.srt to /userhome/34/h3619744/dataset/Audio2Caption_Demo/alice's group/Nov 22, 2021 1027 AM/GMT20211122-022751/GMT20211122-022751_Recording_gvo_1280x720_with_audio.json\n",
      "Converted /userhome/34/h3619744/dataset/Audio2Caption_Demo/alice's group/Jan 10, 2022 0351 PM/GMT20220110-075157_Recording_gvo_1280x720_with_audio.srt to /userhome/34/h3619744/dataset/Audio2Caption_Demo/alice's group/Jan 10, 2022 0351 PM/GMT20220110-075157_Recording_gvo_1280x720_with_audio.json\n",
      "Converted /userhome/34/h3619744/dataset/Audio2Caption_Demo/alice's group/Nov 23, 2021 1026 AM/GMT20211123-022650_Recording.srt to /userhome/34/h3619744/dataset/Audio2Caption_Demo/alice's group/Nov 23, 2021 1026 AM/GMT20211123-022650_Recording.json\n",
      "Converted /userhome/34/h3619744/dataset/Audio2Caption_Demo/may's group/Dec 6, 2021 0853 PM may 6/GMT20211206-125327/GMT20211206-125327_Recording_gvo_1280x720_with_audio.srt to /userhome/34/h3619744/dataset/Audio2Caption_Demo/may's group/Dec 6, 2021 0853 PM may 6/GMT20211206-125327/GMT20211206-125327_Recording_gvo_1280x720_with_audio.json\n"
     ]
    }
   ],
   "source": [
    "import re\n",
    "import json\n",
    "import os\n",
    "from datetime import datetime, timedelta\n",
    "\n",
    "def parse_srt(srt_text):\n",
    "    pattern = re.compile(r'(\\d+)\\n(\\d{2}:\\d{2}:\\d{2},\\d{3}) --> (\\d{2}:\\d{2}:\\d{2},\\d{3})\\n(.*?)\\n', re.DOTALL)\n",
    "    matches = pattern.findall(srt_text)\n",
    "\n",
    "    data = []\n",
    "    skip_patterns = [r'\\[', r'\\]', r'【', r'】']\n",
    "\n",
    "    for match in matches:\n",
    "        id_, start, end, content = match\n",
    "        if any(re.search(pattern, content) for pattern in skip_patterns):\n",
    "            continue\n",
    "\n",
    "        start_time = datetime.strptime(start, '%H:%M:%S,%f')\n",
    "        end_time = datetime.strptime(end, '%H:%M:%S,%f')\n",
    "\n",
    "        # 如果 end_time 等于 start_time，则将 end_time 设置为 start_time + 0.5 秒\n",
    "        if end_time == start_time:\n",
    "            end_time = start_time + timedelta(seconds=0.5)\n",
    "\n",
    "        duration = end_time - start_time\n",
    "        duration_seconds = duration.total_seconds()\n",
    "        duration_formatted = f\"{duration_seconds:.3f}\"\n",
    "\n",
    "        speaker_lines = content.strip().split('\\n')\n",
    "        for speaker_line in speaker_lines:\n",
    "            if speaker_line.strip():\n",
    "                sub_lines = re.split(r'(?<=[。！？])(?=[^。！？]*：)', speaker_line)\n",
    "                for sub_line in sub_lines:\n",
    "                    parts = re.split(r':|：|;|；', sub_line, maxsplit=1)\n",
    "                    if len(parts) == 2:\n",
    "                        speaker, sentence = parts\n",
    "                    else:\n",
    "                        speaker = ''\n",
    "                        sentence = parts[0]\n",
    "                    entry = {\n",
    "                        'id': id_,\n",
    "                        'start_time': start,\n",
    "                        'end_time': end_time.strftime('%H:%M:%S,%f')[:-3],\n",
    "                        'duration': duration_formatted,\n",
    "                        'speaker': speaker.strip(),\n",
    "                        'sentence': sentence.strip()\n",
    "                    }\n",
    "                    data.append(entry)\n",
    "    return data\n",
    "\n",
    "def srt_to_json(srt_file_path):\n",
    "    with open(srt_file_path, 'r', encoding='utf-8') as file:\n",
    "        srt_text = file.read()\n",
    "    parsed_data = parse_srt(srt_text)\n",
    "    return json.dumps(parsed_data, ensure_ascii=False, indent=4)\n",
    "\n",
    "def convert_srt_to_json_in_directory(directory):\n",
    "    for root, dirs, files in os.walk(directory):\n",
    "        for file in files:\n",
    "            if file.endswith(\".srt\"):\n",
    "                srt_file_path = os.path.join(root, file)\n",
    "                json_data = srt_to_json(srt_file_path)\n",
    "                json_file_path = os.path.splitext(srt_file_path)[0] + '.json'\n",
    "                with open(json_file_path, 'w', encoding='utf-8') as json_file:\n",
    "                    json_file.write(json_data)\n",
    "                print(f'Converted {srt_file_path} to {json_file_path}')\n",
    "\n",
    "# 调用函数，转换 `Subtitle` 目录下的所有 `.srt` 文件\n",
    "convert_srt_to_json_in_directory(\"/userhome/34/h3619744/dataset/Audio2Caption_Demo\")\n"
   ]
  },
  {
   "cell_type": "markdown",
   "id": "3e84d226fe84dacc",
   "metadata": {
    "collapsed": false
   },
   "source": [
    "### Duration statistics"
   ]
  },
  {
   "cell_type": "code",
   "execution_count": 2,
   "id": "299451f2e96837e1",
   "metadata": {
    "ExecuteTime": {
     "end_time": "2024-03-09T08:33:35.535244Z",
     "start_time": "2024-03-09T08:33:35.451731Z"
    },
    "collapsed": false
   },
   "outputs": [
    {
     "name": "stdout",
     "output_type": "stream",
     "text": [
      "Total count: 47720\n",
      "GMT20211208-015432_Recording_gvo_1280x720_with_audio_handin3.json: 1314\n",
      "GMT20211129-075627_Recording_gvo_1280x720_with_audio.json: 1605\n",
      "(新規則人工校正后)GMT20211220-085128_Recording_gvo_1280x720_with_audio.json: 2417\n",
      "(人工校正后1)GMT20211123-012646_Recording_gvo_1280x720_with_audio.json: 805\n",
      "GMT20220322-025706_Recording_gvo_1280x720_with_audio(1).json: 1362\n",
      "(人工校正后1)GMT20211109-025907_Recording_gvo_1280x720_with_audio.json: 1157\n",
      "(人工校正后1)GMT20211102-025625_Recording_gvo_1280x720_with_audio.json: 1742\n",
      "(人工校正后1)GMT20211123-025800_Recording_gvo_1280x720_with_audio.json: 704\n",
      "GMT20220104-025628_Recording_gvo_1280x720_with_audio.json: 2387\n",
      "GMT20211208-012847_Recording_gvo_1280x720_with_audio.json: 1170\n",
      "GMT20211102-012834_Recording_gvo_1280x720_with_audio(1).json: 703\n",
      "(人工校正后)GMT20211116-012531_Recording_gvo_1280x720_with_audio.json: 996\n",
      "(人工校正后)GMT20220118-025518_Recording_gvo_1280x720_with_audio.json: 1141\n",
      "GMT20211026-025710_Recording_gvo_1280x720_with_audio.json: 1294\n",
      "(人工校正后1)GMT20211109-012410_Recording_gvo_1280x720_with_audio.json: 1279\n",
      "(人工校正后1)GMT20211116-025601_Recording_gvo_1280x720_with_audio.json: 657\n",
      "GMT20220104-012743_Recording_gvo_1280x720_with_audio(1).json: 1161\n",
      "(人工校正后)GMT20220114-015537_Recording_gvo_1280x720_with_audio.json: 1790\n",
      "(人工校正后)GMT20220107-015814_Recording_gvo_1280x720_with_audio.json: 3567\n",
      "(人工校正后)GMT20220206-015739_Recording_gvo_1280x720_with_audio.json: 2965\n",
      "GMT20220311-014728_Recording_gvo_1280x720_with_audio.json: 3705\n",
      "(人工校正后)GMT20220128-014720_Recording_gvo_1280x720_with_audio.json: 1875\n",
      "(人工校正后)GMT20220211-015737_Recording_gvo_1280x720_with_audio.json: 3308\n",
      "(人工校正后)GMT20220224-050132_Recording_gvo_1280x720_with_audio.json: 1653\n",
      "(人工校正后)GMT20220121-015407_Recording_gvo_1280x720_with_audio.json: 951\n",
      "GMT20220110-023101_Recording_gvo_1280x720_with_audio.json: 511\n",
      "GMT20220308-030238_Recording_gvo_1280x720_with_audio.json: 1328\n",
      "GMT20211122-022751_Recording_gvo_1280x720_with_audio.json: 942\n",
      "GMT20220110-075157_Recording_gvo_1280x720_with_audio.json: 746\n",
      "GMT20211123-022650_Recording.json: 1306\n",
      "GMT20211206-125327_Recording_gvo_1280x720_with_audio.json: 1179\n"
     ]
    },
    {
     "data": {
      "image/png": "[encoded data removed]",
      "text/plain": [
       "<Figure size 1200x600 with 1 Axes>"
      ]
     },
     "metadata": {},
     "output_type": "display_data"
    }
   ],
   "source": [
    "import os\n",
    "import json\n",
    "from collections import defaultdict\n",
    "import matplotlib.pyplot as plt\n",
    "\n",
    "def analyze_duration_distribution(directory):\n",
    "    duration_counts = defaultdict(int)\n",
    "    total_count = 0\n",
    "    file_counts = {}\n",
    "    for root, dirs, files in os.walk(directory):\n",
    "        for file in files:\n",
    "            if file.endswith(\".json\"):\n",
    "                file_path = os.path.join(root, file)\n",
    "                with open(file_path, 'r', encoding='utf-8') as f:\n",
    "                    data = json.load(f)\n",
    "                    file_count = 0\n",
    "                    for entry in data:\n",
    "                        duration = float(entry['duration'])\n",
    "                        duration_counts[round(duration, 3)] += 1\n",
    "                        total_count += 1\n",
    "                        file_count += 1\n",
    "                    file_counts[file] = file_count\n",
    "\n",
    "    duration_distribution = sorted(duration_counts.items(), key=lambda x: x[0])\n",
    "    return duration_distribution, total_count, file_counts\n",
    "\n",
    "def plot_duration_distribution(duration_distribution, total_count):\n",
    "    durations, counts = zip(*duration_distribution)\n",
    "    plt.figure(figsize=(12, 6))\n",
    "    plt.plot(durations, counts)\n",
    "    plt.xlabel('Duration (seconds)')\n",
    "    plt.ylabel('Count')\n",
    "    plt.title(f'Duration Distribution (Total: {total_count})')\n",
    "    plt.xticks(rotation=90)\n",
    "    plt.show()\n",
    "\n",
    "if __name__ == '__main__':\n",
    "    directory = \"/userhome/34/h3619744/dataset/Audio2Caption_Demo\"\n",
    "    duration_distribution, total_count, file_counts = analyze_duration_distribution(directory)\n",
    "\n",
    "    print(f\"Total count: {total_count}\")\n",
    "    for file, count in file_counts.items():\n",
    "        print(f\"{file}: {count}\")\n",
    "\n",
    "    plot_duration_distribution(duration_distribution, total_count)"
   ]
  },
  {
   "cell_type": "markdown",
   "id": "4d8945b5",
   "metadata": {},
   "source": [
    "### Multispeaker"
   ]
  },
  {
   "cell_type": "code",
   "execution_count": 8,
   "id": "dd60ef40",
   "metadata": {},
   "outputs": [
    {
     "name": "stdout",
     "output_type": "stream",
     "text": [
      "Converted /userhome/34/h3619744/dataset/Audio2Caption_Demo/alice's group/Jan 10, 2022 1031 AM/GMT20220110-023101_Recording_gvo_1280x720_with_audio.srt to /userhome/34/h3619744/dataset/Audio2Caption_Demo/alice's group/Jan 10, 2022 1031 AM/GMT20220110-023101_Recording_gvo_1280x720_with_audio.json\n"
     ]
    }
   ],
   "source": [
    "def parse_srt(srt_text):\n",
    "    pattern = re.compile(r'(\\d+)\\n(\\d{2}:\\d{2}:\\d{2},\\d{3}) --> (\\d{2}:\\d{2}:\\d{2},\\d{3})\\n(.*?\\n\\n)', re.DOTALL)\n",
    "    matches = pattern.findall(srt_text)\n",
    "    data = []\n",
    "    skip_patterns = [r'\\[', r'\\]', r'【', r'】']\n",
    "\n",
    "    for match in matches:\n",
    "        id_, start, end, content = match\n",
    "        start_time = datetime.strptime(start, '%H:%M:%S,%f')\n",
    "        end_time = datetime.strptime(end, '%H:%M:%S,%f')\n",
    "\n",
    "        if end_time == start_time:\n",
    "            end_time = start_time + timedelta(seconds=0.5)\n",
    "\n",
    "        duration = end_time - start_time\n",
    "        duration_seconds = duration.total_seconds()\n",
    "        duration_formatted = f\"{duration_seconds:.3f}\"\n",
    "\n",
    "        speaker_lines = re.split(r'\\n(?=[A-Z])', content)\n",
    "\n",
    "        for speaker_line in speaker_lines:\n",
    "            if speaker_line.strip():\n",
    "                parts = re.split(r':|：|;|；', speaker_line, maxsplit=1)\n",
    "                if len(parts) == 2:\n",
    "                    speaker, sentence = parts\n",
    "                else:\n",
    "                    speaker = ''\n",
    "                    sentence = parts[0]\n",
    "\n",
    "                entry = {\n",
    "                    'id': id_,\n",
    "                    'start_time': start,\n",
    "                    'end_time': end_time.strftime('%H:%M:%S,%f')[:-3],\n",
    "                    'duration': duration_formatted,\n",
    "                    'speaker': speaker.strip(),\n",
    "                    'sentence': sentence.strip()\n",
    "                }\n",
    "                data.append(entry)\n",
    "\n",
    "    return data\n",
    "\n",
    "\n",
    "def srt_to_json(srt_file_path):\n",
    "    with open(srt_file_path, 'r', encoding='utf-8') as file:\n",
    "        srt_text = file.read()\n",
    "    parsed_data = parse_srt(srt_text)\n",
    "    return json.dumps(parsed_data, ensure_ascii=False, indent=4)\n",
    "\n",
    "def convert_srt_to_json_in_directory(directory):\n",
    "    for root, dirs, files in os.walk(directory):\n",
    "        for file in files:\n",
    "            if file.endswith(\".srt\"):\n",
    "                srt_file_path = os.path.join(root, file)\n",
    "                json_data = srt_to_json(srt_file_path)\n",
    "                json_file_path = os.path.splitext(srt_file_path)[0] + '.json'\n",
    "                with open(json_file_path, 'w', encoding='utf-8') as json_file:\n",
    "                    json_file.write(json_data)\n",
    "                print(f'Converted {srt_file_path} to {json_file_path}')\n",
    "\n",
    "# 调用函数，转换 `Subtitle` 目录下的所有 `.srt` 文件\n",
    "convert_srt_to_json_in_directory(\"/userhome/34/h3619744/dataset/Audio2Caption_Demo/alice's group/Jan 10, 2022 1031 AM\")"
   ]
  }
 ],
 "metadata": {
  "kernelspec": {
   "display_name": "Python 3",
   "language": "python",
   "name": "python3"
  },
  "language_info": {
   "codemirror_mode": {
    "name": "ipython",
    "version": 3
   },
   "file_extension": ".py",
   "mimetype": "text/x-python",
   "name": "python",
   "nbconvert_exporter": "python",
   "pygments_lexer": "ipython3",
   "version": "3.12.2"
  }
 },
 "nbformat": 4,
 "nbformat_minor": 5
}
