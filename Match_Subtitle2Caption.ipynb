{
 "cells": [
  {
   "cell_type": "code",
   "execution_count": 4,
   "id": "initial_id",
   "metadata": {
    "collapsed": true,
    "ExecuteTime": {
     "end_time": "2024-03-09T10:12:44.422Z",
     "start_time": "2024-03-09T10:12:36.314740Z"
    }
   },
   "outputs": [
    {
     "name": "stdout",
     "output_type": "stream",
     "text": [
      "Copied /Volumes/T7 Shield/Audio_White/Batch 2/angie's group/Nov 23, 2021 0926 AM/GMT20211123-012646_Recording.m4a to /Volumes/T7 Shield/Audio2Caption_Demo/angie's group/Nov 23, 2021 0926 AM/GMT20211123-012646/GMT20211123-012646_Recording.m4a\n",
      "Copied /Volumes/T7 Shield/Audio_White/Batch 2/angie's group/Dec 8, 2021 0928 AM/GMT20211208-012847_Recording.m4a to /Volumes/T7 Shield/Audio2Caption_Demo/angie's group/Dec 8, 2021 0928 AM/GMT20211208-012847_/GMT20211208-012847_Recording.m4a\n",
      "Copied /Volumes/T7 Shield/Audio_White/Batch 2/angie's group/Nov 16, 2021 1056 AM/GMT20211116-025601_Recording.m4a to /Volumes/T7 Shield/Audio2Caption_Demo/angie's group/Nov 16, 2021 1056 AM/GMT20211116-025601/GMT20211116-025601_Recording.m4a\n",
      "Copied /Volumes/T7 Shield/Audio_White/Batch 2/angie's group/Oct 26, 2021 0926 AM/GMT20211026-012618_Recording.m4a to /Volumes/T7 Shield/Audio2Caption_Demo/angie's group/Oct 26, 2021 0926 AM/GMT20211026-012618/GMT20211026-012618_Recording.m4a\n",
      "Copied /Volumes/T7 Shield/Audio_White/Batch 2/angie's group/Jan 4, 2022 1056 AM/GMT20220104-025628_Recording.m4a to /Volumes/T7 Shield/Audio2Caption_Demo/angie's group/Jan 4, 2022 1056 AM/GMT20220104-025628/GMT20220104-025628_Recording.m4a\n",
      "Copied /Volumes/T7 Shield/Audio_White/Batch 2/angie's group/Nov 16, 2021 0925 AM/GMT20211116-012531_Recording.m4a to /Volumes/T7 Shield/Audio2Caption_Demo/angie's group/Nov 16, 2021 0925 AM/GMT20211116-012531/GMT20211116-012531_Recording.m4a\n",
      "Copied /Volumes/T7 Shield/Audio_White/Batch 2/angie's group/Nov 2, 2021 1056 AM/GMT20211102-025625_Recording.m4a to /Volumes/T7 Shield/Audio2Caption_Demo/angie's group/Nov 2, 2021 1056 AM/GMT20211102-025625/GMT20211102-025625_Recording.m4a\n",
      "Copied /Volumes/T7 Shield/Audio_White/Batch 2/angie's group/Jan 18, 2022 1055 AM/GMT20220118-025518_Recording.m4a to /Volumes/T7 Shield/Audio2Caption_Demo/angie's group/Jan 18, 2022 1055 AM/GMT20220118-025518/GMT20220118-025518_Recording.m4a\n",
      "Copied /Volumes/T7 Shield/Audio_White/Batch 2/angie's group/Nov 9, 2021 1059 AM/GMT20211109-025907_Recording.m4a to /Volumes/T7 Shield/Audio2Caption_Demo/angie's group/Nov 9, 2021 1059 AM/GMT20211109-025907/GMT20211109-025907_Recording.m4a\n",
      "Copied /Volumes/T7 Shield/Audio_White/Batch 2/angie's group/Jan 4, 2022 0927 AM/GMT20220104-012743_Recording.m4a to /Volumes/T7 Shield/Audio2Caption_Demo/angie's group/Jan 4, 2022 0927 AM/GMT20220104-012743_/GMT20220104-012743_Recording.m4a\n",
      "Copied /Volumes/T7 Shield/Audio_White/Batch 2/angie's group/Oct 26, 2021 1057 AM/GMT20211026-025710_Recording.m4a to /Volumes/T7 Shield/Audio2Caption_Demo/angie's group/Oct 26, 2021 1057 AM/GMT20211026-025710/GMT20211026-025710_Recording.m4a\n",
      "Copied /Volumes/T7 Shield/Audio_White/Batch 2/angie's group/Mar 22, 2022 1057 AM/GMT20220322-025706_Recording.m4a to /Volumes/T7 Shield/Audio2Caption_Demo/angie's group/Mar 22, 2022 1057 AM/GMT20220322-025706_Recording.m4a\n",
      "Copied /Volumes/T7 Shield/Audio_White/Batch 2/angie's group/Mar 22, 2022 0925 AM/GMT20220322-012539_Recording.m4a to /Volumes/T7 Shield/Audio2Caption_Demo/angie's group/Mar 22, 2022 0925 AM/GMT20220322-012539_Recording.m4a\n",
      "Copied /Volumes/T7 Shield/Audio_White/Batch 2/angie's group/Nov 23, 2021 1057 AM/GMT20211123-025800_Recording.m4a to /Volumes/T7 Shield/Audio2Caption_Demo/angie's group/Nov 23, 2021 1057 AM/GMT20211123-025800/GMT20211123-025800_Recording.m4a\n",
      "Copied /Volumes/T7 Shield/Audio_White/Batch 2/angie's group/Nov 9, 2021 0924 AM/GMT20211109-012410_Recording.m4a to /Volumes/T7 Shield/Audio2Caption_Demo/angie's group/Nov 9, 2021 0924 AM/GMT20211109-012410/GMT20211109-012410_Recording.m4a\n",
      "Copied /Volumes/T7 Shield/Audio_White/Batch 2/angie's group/Nov 2, 2021 0928 AM/GMT20211102-012834_Recording.m4a to /Volumes/T7 Shield/Audio2Caption_Demo/angie's group/Nov 2, 2021 0928 AM/GMT20211102-012834_Recording.m4a\n",
      "Copied /Volumes/T7 Shield/Audio_White/Batch 2/susanna's group/Nov 24, 2021 0146 PM susanna 6/GMT20211124-054618_Recording.m4a to /Volumes/T7 Shield/Audio2Caption_Demo/susanna's group/Nov 24, 2021 0146 PM susanna 6/GMT20211124-054618_Recording.m4a\n",
      "Copied /Volumes/T7 Shield/Audio_White/Batch 2/susanna's group/Nov 17, 2021 0150 PM susanna 6/GMT20211117-055038_Recording.m4a to /Volumes/T7 Shield/Audio2Caption_Demo/susanna's group/Nov 17, 2021 0150 PM susanna 6/GMT20211117-055038/GMT20211117-055038_Recording.m4a\n",
      "Copied /Volumes/T7 Shield/Audio_White/Batch 2/susanna's group/Nov 29, 2021 0356 PM susanna 6/GMT20211129-075627_Recording.m4a to /Volumes/T7 Shield/Audio2Caption_Demo/susanna's group/Nov 29, 2021 0356 PM susanna 6/GMT20211129-075627_Recording.m4a\n",
      "Copied /Volumes/T7 Shield/Audio_White/Batch 2/susanna's group/Mar 14, 2022 0158 PM/GMT20220314-055854_Recording.m4a to /Volumes/T7 Shield/Audio2Caption_Demo/susanna's group/Mar 14, 2022 0158 PM/GMT20220314-055854/GMT20220314-055854_Recording.m4a\n",
      "Copied /Volumes/T7 Shield/Audio_White/Batch 2/hera's group/Dec 12, 2021 0925 PM hera 6/GMT20211212-132549_Recording.m4a to /Volumes/T7 Shield/Audio2Caption_Demo/hera's group/Dec 12, 2021 0925 PM/GMT20211212-132549/GMT20211212-132549_Recording.m4a\n",
      "Copied /Volumes/T7 Shield/Audio_White/Batch 2/hera's group/Feb 17, 2022 0454 PM/GMT20220217-085431_Recording.m4a to /Volumes/T7 Shield/Audio2Caption_Demo/hera's group/Feb 17, 2022 0454 PM/GMT20220217-085431_Recording.m4a\n",
      "Copied /Volumes/T7 Shield/Audio_White/Batch 2/hera's group/Feb 10, 2022 0500 PM/GMT20220210-090010_Recording.m4a to /Volumes/T7 Shield/Audio2Caption_Demo/hera's group/Feb 10, 2022 0500 PM/GMT20220210-090010/GMT20220210-090010_Recording.m4a\n",
      "Copied /Volumes/T7 Shield/Audio_White/Batch 2/hera's group/Dec 8, 2021 0954 AM hera 6/GMT20211208-015432_Recording.m4a to /Volumes/T7 Shield/Audio2Caption_Demo/hera's group/Dec 8, 2021 0954 AM/GMT20211208-015432/GMT20211208-015432_Recording.m4a\n",
      "Copied /Volumes/T7 Shield/Audio_White/Batch 2/elaine's group/Feb 6, 2022 0957 AM/GMT20220206-015739_Recording.m4a to /Volumes/T7 Shield/Audio2Caption_Demo/elaine's group/Feb 6, 2022 0957 AM/GMT20220206-015739/GMT20220206-015739_Recording.m4a\n",
      "Copied /Volumes/T7 Shield/Audio_White/Batch 2/elaine's group/Jan 28, 2022 0947 AM/GMT20220128-014720_Recording.m4a to /Volumes/T7 Shield/Audio2Caption_Demo/elaine's group/Jan 28, 2022 0947 AM/GMT20220128-014720/GMT20220128-014720_Recording.m4a\n",
      "Copied /Volumes/T7 Shield/Audio_White/Batch 2/elaine's group/Feb 11, 2022 0957 AM/GMT20220211-015737_Recording.m4a to /Volumes/T7 Shield/Audio2Caption_Demo/elaine's group/Feb 11, 2022 0957 AM/GMT20220211-015737/GMT20220211-015737_Recording.m4a\n",
      "Copied /Volumes/T7 Shield/Audio_White/Batch 2/elaine's group/Jan 14, 2022 0955 AM/GMT20220114-015537_Recording.m4a to /Volumes/T7 Shield/Audio2Caption_Demo/elaine's group/Jan 14, 2022 0955 AM/GMT20220114-015537/GMT20220114-015537_Recording.m4a\n",
      "Copied /Volumes/T7 Shield/Audio_White/Batch 2/elaine's group/Mar 11, 2022 0947 AM/GMT20220311-014728_Recording.m4a to /Volumes/T7 Shield/Audio2Caption_Demo/elaine's group/Mar 11, 2022 0947 AM/GMT20220311-014728/GMT20220311-014728_Recording.m4a\n",
      "Copied /Volumes/T7 Shield/Audio_White/Batch 2/elaine's group/Jan 21, 2022 0954 AM/GMT20220121-015407_Recording.m4a to /Volumes/T7 Shield/Audio2Caption_Demo/elaine's group/Jan 21, 2022 0954 AM/GMT20220121-015407_Recording.m4a\n",
      "Copied /Volumes/T7 Shield/Audio_White/Batch 2/elaine's group/Feb 24, 2022 0101 PM/GMT20220224-050132_Recording.m4a to /Volumes/T7 Shield/Audio2Caption_Demo/elaine's group/Feb 24, 2022 0101 PM/GMT20220224-050132_Recording.m4a\n",
      "Copied /Volumes/T7 Shield/Audio_White/Batch 2/elaine's group/Jan 7, 2022 0958 AM/GMT20220107-015814_Recording.m4a to /Volumes/T7 Shield/Audio2Caption_Demo/elaine's group/Jan 7, 2022 0958 AM/GMT20220107-015814_Recording.m4a\n",
      "Copied /Volumes/T7 Shield/Audio_White/Batch 2/mimi's group/Dec 20, 2021 0451 PM mimi 6/GMT20211220-085128_Recording.m4a to /Volumes/T7 Shield/Audio2Caption_Demo/mini group/Dec 20, 2021 0451 PM mimi 6/GMT20211220-085128/GMT20211220-085128_Recording.m4a\n",
      "Copied /Volumes/T7 Shield/Audio_White/Batch 2/alice's group/Nov 22, 2021 1027 AM/GMT20211122-022751_Recording.m4a to /Volumes/T7 Shield/Audio2Caption_Demo/alice's group/Nov 22, 2021 1027 AM/GMT20211122-022751/GMT20211122-022751_Recording.m4a\n",
      "Copied /Volumes/T7 Shield/Audio_White/Batch 2/alice's group/Jan 10, 2022 0351 PM/GMT20220110-075157_Recording.m4a to /Volumes/T7 Shield/Audio2Caption_Demo/alice's group/Jan 10, 2022 0351 PM/GMT20220110-075157_Recording.m4a\n",
      "Copied /Volumes/T7 Shield/Audio_White/Batch 2/alice's group/Mar 8, 2022 1102 AM/GMT20220308-030238_Recording.m4a to /Volumes/T7 Shield/Audio2Caption_Demo/alice's group/Mar 8, 2022 1102 AM/GMT20220308-030238/GMT20220308-030238_Recording.m4a\n",
      "Copied /Volumes/T7 Shield/Audio_White/Batch 2/alice's group/Nov 23, 2021 1026 AM/GMT20211123-022650_Recording.m4a to /Volumes/T7 Shield/Audio2Caption_Demo/alice's group/Nov 23, 2021 1026 AM/GMT20211123-022650_Recording.m4a\n",
      "Copied /Volumes/T7 Shield/Audio_White/Batch 2/alice's group/Nov 23, 2021 1026 AM/GMT20211123-022650_Recording.m4a to /Volumes/T7 Shield/Audio2Caption_Demo/alice's group/Nov 23, 2021 1026 AM/GMT20211123-022650_Recording.m4a\n",
      "Copied /Volumes/T7 Shield/Audio_White/Batch 2/alice's group/Jan 10, 2022 1031 AM/GMT20220110-023101_Recording.m4a to /Volumes/T7 Shield/Audio2Caption_Demo/alice's group/Jan 10, 2022 1031 AM/GMT20220110-023101_Recording.m4a\n",
      "Copied /Volumes/T7 Shield/Audio_White/Batch 2/henry's group/Feb 24, 2022 0757 PM/GMT20220224-115713_Recording.m4a to /Volumes/T7 Shield/Audio2Caption_Demo/henry's group/Feb 24, 2022 0757 PM/GMT20220224-115713/GMT20220224-115713_Recording.m4a\n",
      "Copied /Volumes/T7 Shield/Audio_White/Batch 2/henry's group/Feb 22, 2022 0254 PM/GMT20220222-065412_Recording.m4a to /Volumes/T7 Shield/Audio2Caption_Demo/henry's group/Feb 22, 2022 0254 PM/GMT20220222-065412/GMT20220222-065412_Recording.m4a\n",
      "Copied /Volumes/T7 Shield/Audio_White/Batch 2/招仔's group/Jan 3, 2022 0254 PM 招仔 6/GMT20220103-065444_Recording.m4a to /Volumes/T7 Shield/Audio2Caption_Demo/招仔's group/Jan 3, 2022 0254 PM 招仔 6/GMT20220103-065444/GMT20220103-065444_Recording.m4a\n",
      "Copied /Volumes/T7 Shield/Audio_White/Batch 2/招仔's group/Jan 28, 2022 1026 AM 招仔/GMT20220128-022650_Recording.m4a to /Volumes/T7 Shield/Audio2Caption_Demo/招仔's group/Jan 28, 2022 1026 AM 招仔/GMT20220128-022650/GMT20220128-022650_Recording.m4a\n",
      "Copied /Volumes/T7 Shield/Audio_White/Batch 2/招仔's group/Mar 5, 2022 0200 PM/GMT20220305-060016_Recording.m4a to /Volumes/T7 Shield/Audio2Caption_Demo/招仔's group/Mar 5, 2022 0200 PM/GMT20220305-060016/GMT20220305-060016_Recording.m4a\n",
      "Copied /Volumes/T7 Shield/Audio_White/Batch 2/may's group/Dec 6, 2021 0853 PM may 6/GMT20211206-125327_Recording.m4a to /Volumes/T7 Shield/Audio2Caption_Demo/may's group/Dec 6, 2021 0853 PM may 6/GMT20211206-125327/GMT20211206-125327_Recording.m4a\n"
     ]
    }
   ],
   "source": [
    "# import os\n",
    "# import shutil\n",
    "# \n",
    "# # 字幕和音频文件所在的目录\n",
    "# subtitle_dir = '/Volumes/T7 Shield/Audio2Caption_Demo'\n",
    "# audio_dir = '/Volumes/T7 Shield/Audio_White'\n",
    "# \n",
    "# def find_and_copy_audio_files(subtitle_dir, audio_dir):\n",
    "#     for root, dirs, files in os.walk(subtitle_dir):\n",
    "#         for file in files:\n",
    "#             if file.endswith(('.srt', '.ass')):\n",
    "#                 print(f\"Found subtitle: {file}\")\n",
    "#                 unique_id = '_'.join(file.split('_')[:2])  # 根据您的文件命名规则修改\n",
    "#                 print(f\"Unique ID: {unique_id}\")\n",
    "#             \n",
    "#                 for audio_root, audio_dirs, audio_files in os.walk(audio_dir):\n",
    "#                     for audio_file in audio_files:\n",
    "#                         print(f\"Checking audio file: {audio_file}\")\n",
    "#                         if audio_file.startswith(unique_id) and audio_file.endswith('.m4a'):\n",
    "#                             print(f\"Match found: {audio_file}\")\n",
    "#                             src = os.path.join(audio_root, audio_file)\n",
    "#                             dest = os.path.join(root, audio_file)\n",
    "#                             print(f\"Source: {src}\")\n",
    "#                             print(f\"Destination: {dest}\")\n",
    "# \n",
    "# \n",
    "#                             # 如果目标文件夹内不存在该音频文件，或者需要覆盖，则复制文件\n",
    "#                             if not os.path.exists(dest) or os.path.getsize(src) != os.path.getsize(dest):\n",
    "#                                 shutil.copy(src, dest)\n",
    "#                                 print(f\"Copied {src} to {dest}\")\n",
    "#                             break\n",
    "# \n",
    "# find_and_copy_audio_files(subtitle_dir, audio_dir)\n"
   ]
  },
  {
   "cell_type": "code",
   "outputs": [],
   "source": [
    "import os\n",
    "import shutil\n",
    "import re\n",
    "\n",
    "# 定义字幕和音频文件夹的路径\n",
    "subtitle_dir = '/Volumes/T7 Shield/Audio2Caption_Demo'\n",
    "audio_dir = '/Volumes/T7 Shield/Audio_White'\n",
    "\n",
    "# 定义正则表达式匹配模式\n",
    "pattern = r'(GMT\\d{8}-\\d{6}_Recording)'\n",
    "\n",
    "def find_and_copy_audio_files(subtitle_dir, audio_dir):\n",
    "    for root, dirs, files in os.walk(subtitle_dir):\n",
    "        for file in files:\n",
    "            if file.endswith(('.srt', '.ass')):\n",
    "                # 使用正则表达式匹配文件名中的特定部分\n",
    "                match = re.search(pattern, file)\n",
    "                if match:\n",
    "                    unique_id = match.group(1)\n",
    "                    # 在音频文件夹中查找匹配的音频文件\n",
    "                    for audio_root, audio_dirs, audio_files in os.walk(audio_dir):\n",
    "                        for audio_file in audio_files:\n",
    "                            if audio_file.startswith(unique_id) and audio_file.endswith('.m4a'):\n",
    "                                src = os.path.join(audio_root, audio_file)\n",
    "                                dest = os.path.join(root, audio_file)\n",
    "\n",
    "                                # 复制音频文件到字幕文件所在目录\n",
    "                                shutil.copy(src, dest)\n",
    "                                print(f\"Copied {src} to {dest}\")\n",
    "                                break\n",
    "\n",
    "find_and_copy_audio_files(subtitle_dir, audio_dir)\n"
   ],
   "metadata": {
    "collapsed": false
   },
   "id": "8451cd581a004420"
  },
  {
   "cell_type": "code",
   "outputs": [
    {
     "name": "stdout",
     "output_type": "stream",
     "text": [
      "Copied /Volumes/T7 Shield/Audio_White/Batch 2/alice's group/Nov 22, 2021 1027 AM/GMT20211122-022751_Recording.m4a to /Users/typewriter/Library/CloudStorage/OneDrive-个人/桌面/文件/实习/实习-HKU/FormatSRT/Subtitle/alice's group/Nov 22, 2021 1027 AM/GMT20211122-022751/GMT20211122-022751_Recording.m4a\n",
      "Copied /Volumes/T7 Shield/Audio_White/Batch 2/alice's group/Jan 10, 2022 0351 PM/GMT20220110-075157_Recording.m4a to /Users/typewriter/Library/CloudStorage/OneDrive-个人/桌面/文件/实习/实习-HKU/FormatSRT/Subtitle/alice's group/Jan 10, 2022 0351 PM/GMT20220110-075157_Recording.m4a\n",
      "Copied /Volumes/T7 Shield/Audio_White/Batch 2/angie's group/Dec 7, 2021 0926 AM/GMT20211207-012644_Recording.m4a to /Users/typewriter/Library/CloudStorage/OneDrive-个人/桌面/文件/实习/实习-HKU/FormatSRT/Subtitle/alice's group/Dec 7, 2021 0926 AM/GMT20211207-012644/GMT20211207-012644_Recording.m4a\n",
      "Copied /Volumes/T7 Shield/Audio_White/Batch 2/alice's group/Mar 8, 2022 1102 AM/GMT20220308-030238_Recording.m4a to /Users/typewriter/Library/CloudStorage/OneDrive-个人/桌面/文件/实习/实习-HKU/FormatSRT/Subtitle/alice's group/Mar 8, 2022 1102 AM/GMT20220308-030238/GMT20220308-030238_Recording.m4a\n",
      "Copied /Volumes/T7 Shield/Audio_White/Batch 2/alice's group/Nov 23, 2021 1026 AM/GMT20211123-022650_Recording.m4a to /Users/typewriter/Library/CloudStorage/OneDrive-个人/桌面/文件/实习/实习-HKU/FormatSRT/Subtitle/alice's group/Nov 23, 2021 1026 AM/GMT20211123-022650_Recording.m4a\n",
      "Copied /Volumes/T7 Shield/Audio_White/Batch 2/alice's group/Nov 23, 2021 1026 AM/GMT20211123-022650_Recording.m4a to /Users/typewriter/Library/CloudStorage/OneDrive-个人/桌面/文件/实习/实习-HKU/FormatSRT/Subtitle/alice's group/Nov 23, 2021 1026 AM/GMT20211123-022650_Recording.m4a\n",
      "Copied /Volumes/T7 Shield/Audio_White/Batch 2/alice's group/Jan 10, 2022 1031 AM/GMT20220110-023101_Recording.m4a to /Users/typewriter/Library/CloudStorage/OneDrive-个人/桌面/文件/实习/实习-HKU/FormatSRT/Subtitle/alice's group/Jan 10, 2022 1031 AM/GMT20220110-023101_Recording.m4a\n"
     ]
    }
   ],
   "source": [
    "import os\n",
    "import shutil\n",
    "import re\n",
    "\n",
    "# 定义字幕和音频文件夹的路径\n",
    "subtitle_dir = '/Users/typewriter/Library/CloudStorage/OneDrive-个人/桌面/文件/实习/实习-HKU/FormatSRT/Subtitle'\n",
    "audio_dir = '/Volumes/T7 Shield/Audio_White'\n",
    "\n",
    "# 定义正则表达式匹配模式\n",
    "pattern = r'(GMT\\d{8}-\\d{6}_Recording)'\n",
    "\n",
    "def find_and_copy_audio_files(subtitle_dir, audio_dir):\n",
    "    for root, dirs, files in os.walk(subtitle_dir):\n",
    "        for file in files:\n",
    "            if file.endswith(('.srt', '.ass')):\n",
    "                # 使用正则表达式匹配文件名中的特定部分\n",
    "                match = re.search(pattern, file)\n",
    "                if match:\n",
    "                    unique_id = match.group(1)\n",
    "                    # 在音频文件夹中查找匹配的音频文件\n",
    "                    for audio_root, audio_dirs, audio_files in os.walk(audio_dir):\n",
    "                        for audio_file in audio_files:\n",
    "                            if audio_file.startswith(unique_id) and audio_file.endswith('.m4a'):\n",
    "                                src = os.path.join(audio_root, audio_file)\n",
    "                                dest = os.path.join(root, audio_file)\n",
    "\n",
    "                                # 复制音频文件到字幕文件所在目录\n",
    "                                shutil.copy(src, dest)\n",
    "                                print(f\"Copied {src} to {dest}\")\n",
    "                                break\n",
    "\n",
    "find_and_copy_audio_files(subtitle_dir, audio_dir)\n"
   ],
   "metadata": {
    "collapsed": false,
    "ExecuteTime": {
     "end_time": "2024-03-09T10:23:00.334112Z",
     "start_time": "2024-03-09T10:22:59.841028Z"
    }
   },
   "id": "6375bec9a1182d32",
   "execution_count": 5
  }
 ],
 "metadata": {
  "kernelspec": {
   "display_name": "Python 3",
   "language": "python",
   "name": "python3"
  },
  "language_info": {
   "codemirror_mode": {
    "name": "ipython",
    "version": 2
   },
   "file_extension": ".py",
   "mimetype": "text/x-python",
   "name": "python",
   "nbconvert_exporter": "python",
   "pygments_lexer": "ipython2",
   "version": "2.7.6"
  }
 },
 "nbformat": 4,
 "nbformat_minor": 5
}
