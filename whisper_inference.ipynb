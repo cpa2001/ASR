{
 "cells": [
  {
   "cell_type": "code",
   "execution_count": null,
   "metadata": {},
   "outputs": [],
   "source": [
    "import os\n",
    "import whisper\n",
    "\n",
    "# 加载Whisper模型\n",
    "model = whisper.load_model(\"large-v3\")\n",
    "\n",
    "def transcribe_directory(directory_path):\n",
    "    # 遍历文件夹内所有的.flac文件\n",
    "    for filename in os.listdir(directory_path):\n",
    "        if filename.endswith(\".flac\"):\n",
    "            # 构建完整的文件路径\n",
    "            file_path = os.path.join(directory_path, filename)\n",
    "            \n",
    "            # 调用Whisper模型进行语音转写\n",
    "            result = model.transcribe(file_path, language=\"cantonese\")  \n",
    "            print(f\"Transcription of {filename}: {result['text']}\")\n",
    "\n",
    "\n",
    "directory_path = \"path/to/your/flac/files\"\n",
    "transcribe_directory(directory_path)\n"
   ]
  }
 ],
 "metadata": {
  "kernelspec": {
   "display_name": "asr",
   "language": "python",
   "name": "python3"
  },
  "language_info": {
   "name": "python",
   "version": "3.12.2"
  }
 },
 "nbformat": 4,
 "nbformat_minor": 2
}
